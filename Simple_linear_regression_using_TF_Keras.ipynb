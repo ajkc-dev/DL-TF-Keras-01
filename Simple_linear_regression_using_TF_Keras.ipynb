{
  "nbformat": 4,
  "nbformat_minor": 0,
  "metadata": {
    "colab": {
      "provenance": [],
      "authorship_tag": "ABX9TyNtMicZlGOeA+FHkAL+xj4N",
      "include_colab_link": true
    },
    "kernelspec": {
      "name": "python3",
      "display_name": "Python 3"
    },
    "language_info": {
      "name": "python"
    }
  },
  "cells": [
    {
      "cell_type": "markdown",
      "metadata": {
        "id": "view-in-github",
        "colab_type": "text"
      },
      "source": [
        "<a href=\"https://colab.research.google.com/github/ajkc-dev/DL-TF-Keras-01/blob/main/Simple_linear_regression_using_TF_Keras.ipynb\" target=\"_parent\"><img src=\"https://colab.research.google.com/assets/colab-badge.svg\" alt=\"Open In Colab\"/></a>"
      ]
    },
    {
      "cell_type": "markdown",
      "source": [
        "**Simple linear regression using TensorFlow Keras:**  \n",
        "In the first chapter, we learned about how to build a model in TensorFlow Keras. **Here, we will use the\n",
        "same Sequential API to build a single-layered perceptron (*fully connected neural network*) using the\n",
        "Dense class**.  \n",
        "We will continue with the same problem, that is, predicting  **the price** of a house **given\n",
        "its area**:"
      ],
      "metadata": {
        "id": "JCwtP9GYp9Mr"
      }
    },
    {
      "cell_type": "markdown",
      "source": [
        "1. We start with importing the packages we will need.  \n",
        "**Notice the addition of the Keras module\n",
        "and the Dense layer in importing packages**:"
      ],
      "metadata": {
        "id": "dLBzLT_Ip_vi"
      }
    },
    {
      "cell_type": "code",
      "execution_count": null,
      "metadata": {
        "id": "NbLUDh3yp1Fh"
      },
      "outputs": [],
      "source": [
        "import tensorflow as tf\n",
        "import numpy as np\n",
        "import matplotlib.pyplot as plt\n",
        "import pandas as pd\n",
        "import tensorflow.keras as K\n",
        "from tensorflow.keras.layers import Dense"
      ]
    },
    {
      "cell_type": "markdown",
      "source": [
        "2. Next, we generate the data, as in the previous case:"
      ],
      "metadata": {
        "id": "WTa5QadUqJgg"
      }
    },
    {
      "cell_type": "code",
      "source": [
        "#Generate a random data\n",
        "np.random.seed(0)\n",
        "area = 2.5 * np.random.randn(100) + 25\n",
        "price = 25 * area + 5 + np.random.randint(20,50, size = len(area))\n",
        "data = np.array([area, price])\n",
        "data = pd.DataFrame(data = data.T, columns=['area','price'])\n",
        "plt.scatter(data['area'], data['price'])\n",
        "plt.show()"
      ],
      "metadata": {
        "id": "WV-cMZlqqKYJ"
      },
      "execution_count": null,
      "outputs": []
    },
    {
      "cell_type": "markdown",
      "source": [
        "3. **The input to neural networks should be normalized**; this is because input gets multiplied with\n",
        "weights, and if we have very large numbers, the result of multiplication will be large, and soon\n",
        "our metrics may cross infinity (the largest number your computer can handle):"
      ],
      "metadata": {
        "id": "PVL4OLHfqNmb"
      }
    },
    {
      "cell_type": "code",
      "source": [
        "data = (data - data.min()) / (data.max() - data.min()) #Normalize"
      ],
      "metadata": {
        "id": "mdMbzTVrqQRR"
      },
      "execution_count": null,
      "outputs": []
    },
    {
      "cell_type": "markdown",
      "source": [
        "4. Let us now build the model; since it is a simple linear regressor, we use a Dense layer with\n",
        "only one unit:"
      ],
      "metadata": {
        "id": "Cw8mv2XxqZ8u"
      }
    },
    {
      "cell_type": "code",
      "source": [
        "model = K.Sequential([\n",
        "Dense(1, input_shape = [1,], activation=None)\n",
        "])\n",
        "model.summary()"
      ],
      "metadata": {
        "id": "qaKRsDlqqao5"
      },
      "execution_count": null,
      "outputs": []
    },
    {
      "cell_type": "markdown",
      "source": [
        "5. To train a model, we will need to define the loss function and optimizer.  \n",
        "**The loss function defines\n",
        "the quantity that our model tries to minimize, and the optimizer decides the minimization\n",
        "algorithm we are using**.  \n",
        "\n",
        "*Additionally, we can also define metrics, which is the quantity we want\n",
        "to log as the model is trained*.  \n",
        "\n",
        "We define the loss function, optimizer, and metrics using the compile function:"
      ],
      "metadata": {
        "id": "_zHRSMNBqpAf"
      }
    },
    {
      "cell_type": "code",
      "source": [
        "model.compile(loss='mean_squared_error', optimizer='sgd')"
      ],
      "metadata": {
        "id": "zqTxbiDzqptA"
      },
      "execution_count": null,
      "outputs": []
    },
    {
      "cell_type": "markdown",
      "source": [
        "6. Now that model is defined, we just need to train it using the fit function. Observe that we are\n",
        "using a batch_size of 32 and splitting the data into training and validation datasets using the\n",
        "validation_spilt argument of the fit function:"
      ],
      "metadata": {
        "id": "84yldhl-qtPj"
      }
    },
    {
      "cell_type": "code",
      "source": [
        "model.fit(x=data['area'],y=data['price'], epochs=100, batch_size=32,\n",
        "verbose=1, validation_split=0.2)"
      ],
      "metadata": {
        "id": "JD8EncNHqwcS"
      },
      "execution_count": null,
      "outputs": []
    },
    {
      "cell_type": "markdown",
      "source": [
        "7. Well, you have successfully trained a neural network to perform the task of linear regression.\n",
        "The mean squared error after training for 100 epochs is 0.0815 on training data and 0.074 on\n",
        "validation data. We can get the predicted value for a given input using the predict function:"
      ],
      "metadata": {
        "id": "AmbjGP-mrE2d"
      }
    },
    {
      "cell_type": "code",
      "source": [
        "y_pred = model.predict(data['area'])"
      ],
      "metadata": {
        "id": "ZLGok_lgrHt1"
      },
      "execution_count": null,
      "outputs": []
    },
    {
      "cell_type": "markdown",
      "source": [
        "8. Next, we plot a graph of the predicted and the actual data:"
      ],
      "metadata": {
        "id": "B2EhogESrJer"
      }
    },
    {
      "cell_type": "code",
      "source": [
        "plt.plot(data['area'], y_pred, color='red',label=\"Predicted Price\")\n",
        "plt.scatter(data['area'], data['price'], label=\"Training Data\")\n",
        "plt.xlabel(\"Area\")\n",
        "plt.ylabel(\"Price\")\n",
        "plt.legend()"
      ],
      "metadata": {
        "id": "N1DksoUJrSQn"
      },
      "execution_count": null,
      "outputs": []
    }
  ]
}