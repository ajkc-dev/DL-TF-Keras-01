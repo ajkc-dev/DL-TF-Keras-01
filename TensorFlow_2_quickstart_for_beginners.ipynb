{
  "nbformat": 4,
  "nbformat_minor": 0,
  "metadata": {
    "colab": {
      "provenance": [],
      "authorship_tag": "ABX9TyMNC0S766prZ9Dk1zfZqlw1",
      "include_colab_link": true
    },
    "kernelspec": {
      "name": "python3",
      "display_name": "Python 3"
    },
    "language_info": {
      "name": "python"
    }
  },
  "cells": [
    {
      "cell_type": "markdown",
      "metadata": {
        "id": "view-in-github",
        "colab_type": "text"
      },
      "source": [
        "<a href=\"https://colab.research.google.com/github/ajkc-dev/DL-TF-Keras-01/blob/main/TensorFlow_2_quickstart_for_beginners.ipynb\" target=\"_parent\"><img src=\"https://colab.research.google.com/assets/colab-badge.svg\" alt=\"Open In Colab\"/></a>"
      ]
    },
    {
      "cell_type": "markdown",
      "source": [
        "**Set up TensorFlow**  \n",
        "Import TensorFlow into your program to get started:"
      ],
      "metadata": {
        "id": "XE0GCkvZaxol"
      }
    },
    {
      "cell_type": "code",
      "execution_count": 1,
      "metadata": {
        "colab": {
          "base_uri": "https://localhost:8080/"
        },
        "id": "JFEZPDswah7O",
        "outputId": "c99ed218-66c7-4ee4-ff8a-67cc2937b40b"
      },
      "outputs": [
        {
          "output_type": "stream",
          "name": "stdout",
          "text": [
            "TensorFlow version: 2.18.0\n"
          ]
        }
      ],
      "source": [
        "import tensorflow as tf\n",
        "print(\"TensorFlow version:\", tf.__version__)"
      ]
    },
    {
      "cell_type": "markdown",
      "source": [
        "**Load a dataset**  \n",
        "Load and prepare the MNIST dataset. The pixel values of the images range from 0 through 255. Scale these values to a range of 0 to 1 by dividing the values by 255.0. This also converts the sample data from integers to floating-point numbers:"
      ],
      "metadata": {
        "id": "KHOn2-2GbVk1"
      }
    },
    {
      "cell_type": "code",
      "source": [
        "mnist = tf.keras.datasets.mnist\n",
        "\n",
        "(x_train, y_train), (x_test, y_test) = mnist.load_data()\n",
        "x_train, x_test = x_train / 255.0, x_test / 255.0"
      ],
      "metadata": {
        "colab": {
          "base_uri": "https://localhost:8080/"
        },
        "id": "Xvd8DX-ZbXzr",
        "outputId": "4edfbc18-c1bd-46c3-d214-cb6cd013158a"
      },
      "execution_count": 2,
      "outputs": [
        {
          "output_type": "stream",
          "name": "stdout",
          "text": [
            "Downloading data from https://storage.googleapis.com/tensorflow/tf-keras-datasets/mnist.npz\n",
            "\u001b[1m11490434/11490434\u001b[0m \u001b[32m━━━━━━━━━━━━━━━━━━━━\u001b[0m\u001b[37m\u001b[0m \u001b[1m1s\u001b[0m 0us/step\n"
          ]
        }
      ]
    },
    {
      "cell_type": "markdown",
      "source": [
        "[Build a machine learning model](https://www.tensorflow.org/tutorials/quickstart/beginner?_gl=1*1nkl9ju*_up*MQ..*_ga*MTM1MDMyMzg5LjE3NTIwNjc4Mzg.*_ga_W0YLR4190T*czE3NTIwNjc4MzgkbzEkZzAkdDE3NTIwNjc4MzgkajYwJGwwJGgw#build_a_machine_learning_model)  \n",
        "Build a tf.keras.Sequential model:"
      ],
      "metadata": {
        "id": "ett0H1RFbePB"
      }
    },
    {
      "cell_type": "markdown",
      "source": [
        "Sequential is useful for stacking layers where each layer has one input tensor and one output tensor. Layers are functions with a known mathematical structure that can be reused and have trainable variables. Most TensorFlow models are composed of layers. This model uses the Flatten, Dense, and Dropout layers."
      ],
      "metadata": {
        "id": "J97YLdfQDcts"
      }
    },
    {
      "cell_type": "code",
      "source": [
        "model = tf.keras.models.Sequential([\n",
        "  tf.keras.layers.Flatten(input_shape=(28, 28)),\n",
        "  tf.keras.layers.Dense(128, activation='relu'),\n",
        "  tf.keras.layers.Dropout(0.2),\n",
        "  tf.keras.layers.Dense(10)\n",
        "])"
      ],
      "metadata": {
        "colab": {
          "base_uri": "https://localhost:8080/"
        },
        "id": "a_cwX2CZbmDT",
        "outputId": "52f3e92a-b06d-463b-abfc-45fe53ab2d2f"
      },
      "execution_count": 3,
      "outputs": [
        {
          "output_type": "stream",
          "name": "stderr",
          "text": [
            "/usr/local/lib/python3.11/dist-packages/keras/src/layers/reshaping/flatten.py:37: UserWarning: Do not pass an `input_shape`/`input_dim` argument to a layer. When using Sequential models, prefer using an `Input(shape)` object as the first layer in the model instead.\n",
            "  super().__init__(**kwargs)\n"
          ]
        }
      ]
    },
    {
      "cell_type": "markdown",
      "source": [
        "For each example, the model returns a vector of logits or log-odds scores, one for each class."
      ],
      "metadata": {
        "id": "fjf3Gsnyb0QG"
      }
    },
    {
      "cell_type": "code",
      "source": [
        "predictions = model(x_train[:1]).numpy()\n",
        "predictions"
      ],
      "metadata": {
        "colab": {
          "base_uri": "https://localhost:8080/"
        },
        "id": "fGYfl-Tob1jN",
        "outputId": "94c245fe-3ea0-4ca1-ef37-5886cda72f3c"
      },
      "execution_count": 4,
      "outputs": [
        {
          "output_type": "execute_result",
          "data": {
            "text/plain": [
              "array([[-0.2612087 ,  0.17325959, -0.2896306 ,  1.035263  , -0.00676847,\n",
              "         0.17006314, -0.16798033,  0.3411149 ,  0.29088563,  0.4827162 ]],\n",
              "      dtype=float32)"
            ]
          },
          "metadata": {},
          "execution_count": 4
        }
      ]
    },
    {
      "cell_type": "markdown",
      "source": [
        "The tf.nn.softmax function converts these logits to probabilities for each class:"
      ],
      "metadata": {
        "id": "NSVnsrw7b5Hu"
      }
    },
    {
      "cell_type": "code",
      "source": [
        "tf.nn.softmax(predictions).numpy()"
      ],
      "metadata": {
        "colab": {
          "base_uri": "https://localhost:8080/"
        },
        "id": "dQZH9VNzb5lJ",
        "outputId": "25350582-0c84-47e1-85b0-c8b6a0803f5c"
      },
      "execution_count": 5,
      "outputs": [
        {
          "output_type": "execute_result",
          "data": {
            "text/plain": [
              "array([[0.05964246, 0.0920964 , 0.05797116, 0.21807504, 0.07692322,\n",
              "        0.09180249, 0.06547026, 0.10892843, 0.10359219, 0.12549834]],\n",
              "      dtype=float32)"
            ]
          },
          "metadata": {},
          "execution_count": 5
        }
      ]
    },
    {
      "cell_type": "markdown",
      "source": [
        "Define a loss function for training using losses.SparseCategoricalCrossentropy:"
      ],
      "metadata": {
        "id": "R0scBGALcAI-"
      }
    },
    {
      "cell_type": "code",
      "source": [
        "loss_fn = tf.keras.losses.SparseCategoricalCrossentropy(from_logits=True)"
      ],
      "metadata": {
        "id": "-z86r9hXcAwt"
      },
      "execution_count": 6,
      "outputs": []
    },
    {
      "cell_type": "markdown",
      "source": [
        "The loss function takes a vector of ground truth values and a vector of logits and returns a scalar loss for each example. This loss is equal to the negative log probability of the true class: The loss is zero if the model is sure of the correct class.\n",
        "\n",
        "This untrained model gives probabilities close to random (1/10 for each class), so the initial loss should be close to -tf.math.log(1/10) ~= 2.3."
      ],
      "metadata": {
        "id": "gLUl3vOKcLjE"
      }
    },
    {
      "cell_type": "code",
      "source": [
        "loss_fn(y_train[:1], predictions).numpy()"
      ],
      "metadata": {
        "colab": {
          "base_uri": "https://localhost:8080/"
        },
        "id": "_PlveZo_cMaC",
        "outputId": "0193e538-2888-458a-bc0d-2a9d3747f5bf"
      },
      "execution_count": 7,
      "outputs": [
        {
          "output_type": "execute_result",
          "data": {
            "text/plain": [
              "np.float32(2.388116)"
            ]
          },
          "metadata": {},
          "execution_count": 7
        }
      ]
    },
    {
      "cell_type": "markdown",
      "source": [
        "Before you start training, configure and compile the model using Keras Model.compile. Set the optimizer class to adam, set the loss to the loss_fn function you defined earlier, and specify a metric to be evaluated for the model by setting the metrics parameter to accuracy."
      ],
      "metadata": {
        "id": "wXzZ_DsccN0K"
      }
    },
    {
      "cell_type": "code",
      "source": [
        "model.compile(optimizer='adam',\n",
        "              loss=loss_fn,\n",
        "              metrics=['accuracy'])"
      ],
      "metadata": {
        "id": "QvWXaxBccSvm"
      },
      "execution_count": 8,
      "outputs": []
    },
    {
      "cell_type": "markdown",
      "source": [
        "**[Train and evaluate your model](https://www.tensorflow.org/tutorials/quickstart/beginner?_gl=1*1nkl9ju*_up*MQ..*_ga*MTM1MDMyMzg5LjE3NTIwNjc4Mzg.*_ga_W0YLR4190T*czE3NTIwNjc4MzgkbzEkZzAkdDE3NTIwNjc4MzgkajYwJGwwJGgw#train_and_evaluate_your_model)**\n",
        "\n",
        "Use the Model.fit method to adjust your model parameters and minimize the loss:"
      ],
      "metadata": {
        "id": "UY_dErPsCg6M"
      }
    },
    {
      "cell_type": "code",
      "source": [
        "model.fit(x_train, y_train, epochs=5)"
      ],
      "metadata": {
        "colab": {
          "base_uri": "https://localhost:8080/"
        },
        "id": "Kh8oxOy8Cn8U",
        "outputId": "d3b72453-0f16-42f3-cf5f-3c2b1753ad3f"
      },
      "execution_count": 9,
      "outputs": [
        {
          "output_type": "stream",
          "name": "stdout",
          "text": [
            "Epoch 1/5\n",
            "\u001b[1m1875/1875\u001b[0m \u001b[32m━━━━━━━━━━━━━━━━━━━━\u001b[0m\u001b[37m\u001b[0m \u001b[1m5s\u001b[0m 2ms/step - accuracy: 0.8644 - loss: 0.4735\n",
            "Epoch 2/5\n",
            "\u001b[1m1875/1875\u001b[0m \u001b[32m━━━━━━━━━━━━━━━━━━━━\u001b[0m\u001b[37m\u001b[0m \u001b[1m6s\u001b[0m 3ms/step - accuracy: 0.9533 - loss: 0.1552\n",
            "Epoch 3/5\n",
            "\u001b[1m1875/1875\u001b[0m \u001b[32m━━━━━━━━━━━━━━━━━━━━\u001b[0m\u001b[37m\u001b[0m \u001b[1m5s\u001b[0m 2ms/step - accuracy: 0.9674 - loss: 0.1081\n",
            "Epoch 4/5\n",
            "\u001b[1m1875/1875\u001b[0m \u001b[32m━━━━━━━━━━━━━━━━━━━━\u001b[0m\u001b[37m\u001b[0m \u001b[1m5s\u001b[0m 3ms/step - accuracy: 0.9730 - loss: 0.0893\n",
            "Epoch 5/5\n",
            "\u001b[1m1875/1875\u001b[0m \u001b[32m━━━━━━━━━━━━━━━━━━━━\u001b[0m\u001b[37m\u001b[0m \u001b[1m5s\u001b[0m 2ms/step - accuracy: 0.9763 - loss: 0.0768\n"
          ]
        },
        {
          "output_type": "execute_result",
          "data": {
            "text/plain": [
              "<keras.src.callbacks.history.History at 0x788bca5aadd0>"
            ]
          },
          "metadata": {},
          "execution_count": 9
        }
      ]
    },
    {
      "cell_type": "markdown",
      "source": [
        "The Model.evaluate method checks the model's performance, usually on a validation set or test set."
      ],
      "metadata": {
        "id": "oanGQIVSCsQa"
      }
    },
    {
      "cell_type": "code",
      "source": [
        "model.evaluate(x_test,  y_test, verbose=2)"
      ],
      "metadata": {
        "colab": {
          "base_uri": "https://localhost:8080/"
        },
        "id": "2AuA-GTzCsxP",
        "outputId": "11aa9992-7376-4c61-e944-df1f7e476cab"
      },
      "execution_count": 10,
      "outputs": [
        {
          "output_type": "stream",
          "name": "stdout",
          "text": [
            "313/313 - 0s - 2ms/step - accuracy: 0.9767 - loss: 0.0760\n"
          ]
        },
        {
          "output_type": "execute_result",
          "data": {
            "text/plain": [
              "[0.07600484788417816, 0.9767000079154968]"
            ]
          },
          "metadata": {},
          "execution_count": 10
        }
      ]
    },
    {
      "cell_type": "markdown",
      "source": [
        "The image classifier is now trained to ~98% accuracy on this dataset. To learn more, read the TensorFlow tutorials.\n",
        "\n",
        "If you want your model to return a probability, you can wrap the trained model, and attach the softmax to it:"
      ],
      "metadata": {
        "id": "yRLOMPs4CvM8"
      }
    },
    {
      "cell_type": "code",
      "source": [
        "probability_model = tf.keras.Sequential([\n",
        "  model,\n",
        "  tf.keras.layers.Softmax()\n",
        "])"
      ],
      "metadata": {
        "id": "9Gd36zy7Cynw"
      },
      "execution_count": 11,
      "outputs": []
    },
    {
      "cell_type": "code",
      "source": [
        "probability_model(x_test[:5])"
      ],
      "metadata": {
        "colab": {
          "base_uri": "https://localhost:8080/"
        },
        "id": "FN2RwJ0XC1lu",
        "outputId": "ec627a5f-70f0-4efa-da4b-7e6324101a63"
      },
      "execution_count": 12,
      "outputs": [
        {
          "output_type": "execute_result",
          "data": {
            "text/plain": [
              "<tf.Tensor: shape=(5, 10), dtype=float32, numpy=\n",
              "array([[9.2633307e-08, 5.5712381e-09, 1.0520853e-05, 2.2350939e-04,\n",
              "        2.7638371e-11, 5.2572684e-08, 3.1151533e-13, 9.9976462e-01,\n",
              "        4.1779887e-07, 8.5420811e-07],\n",
              "       [8.9489456e-09, 7.5159871e-05, 9.9968386e-01, 2.0943573e-04,\n",
              "        6.2185102e-15, 3.1181629e-05, 2.3686770e-08, 1.4294024e-11,\n",
              "        3.2433567e-07, 2.7188575e-12],\n",
              "       [1.3394551e-06, 9.9584973e-01, 2.8113229e-04, 4.6837373e-05,\n",
              "        3.3391541e-05, 1.1930831e-05, 2.3197550e-05, 3.4036413e-03,\n",
              "        3.4762794e-04, 1.1245446e-06],\n",
              "       [9.9980074e-01, 1.2037691e-09, 1.3226480e-05, 4.9340533e-06,\n",
              "        3.4407731e-07, 5.1972138e-06, 8.0272061e-05, 7.9112469e-05,\n",
              "        4.7962517e-06, 1.1446761e-05],\n",
              "       [3.7092400e-06, 2.7891986e-07, 5.4125562e-06, 4.9147110e-07,\n",
              "        9.8989946e-01, 5.9671100e-07, 4.6136071e-07, 6.0657920e-05,\n",
              "        2.0659961e-06, 1.0026795e-02]], dtype=float32)>"
            ]
          },
          "metadata": {},
          "execution_count": 12
        }
      ]
    },
    {
      "cell_type": "markdown",
      "source": [
        "Conclusion\n",
        "Congratulations! You have trained a machine learning model using a prebuilt dataset using the Keras API."
      ],
      "metadata": {
        "id": "YB-UoLR-DA_I"
      }
    }
  ]
}